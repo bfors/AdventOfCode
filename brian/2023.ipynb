{
 "cells": [
  {
   "cell_type": "code",
   "execution_count": 78,
   "metadata": {},
   "outputs": [],
   "source": [
    "from AdventUtils import *\n",
    "import AdventUtils\n",
    "AdventUtils.current_year = 2023"
   ]
  },
  {
   "cell_type": "markdown",
   "metadata": {},
   "source": [
    "# Day 1"
   ]
  },
  {
   "cell_type": "code",
   "execution_count": 79,
   "metadata": {},
   "outputs": [
    {
     "data": {
      "text/plain": [
       "  .0020 seconds, answer: 54,159"
      ]
     },
     "execution_count": 79,
     "metadata": {},
     "output_type": "execute_result"
    }
   ],
   "source": [
    "in1 = parse(1, show=0)\n",
    "\n",
    "def trebuchet(data):\n",
    "    sum = 0\n",
    "    for line in data:\n",
    "        first = ''\n",
    "        last = ''\n",
    "        for c in line:\n",
    "            if c.isdigit():\n",
    "                if not first:\n",
    "                    first = c\n",
    "                last = c\n",
    "        sum += int(first + last)\n",
    "    return sum\n",
    "\n",
    "answer(1.1, 54159, lambda: trebuchet(in1))"
   ]
  },
  {
   "cell_type": "code",
   "execution_count": 80,
   "metadata": {},
   "outputs": [
    {
     "data": {
      "text/plain": [
       "  .2481 seconds, answer: 53,866"
      ]
     },
     "execution_count": 80,
     "metadata": {},
     "output_type": "execute_result"
    }
   ],
   "source": [
    "in1 = parse(1, show=0)\n",
    "\n",
    "nums = {\"one\":\"1\", \"two\":\"2\", \"three\":\"3\", \"four\":\"4\", \"five\":\"5\", \n",
    "        \"six\":\"6\", \"seven\":\"7\", \"eight\":\"8\", \"nine\":\"9\",\n",
    "        \"1\":\"1\",\"2\":\"2\",\"3\":\"3\",\"4\":\"4\",\"5\":\"5\",\"6\":\"6\",\"7\":\"7\",\"8\":\"8\",\"9\":\"9\"}\n",
    "\n",
    "def trebuchet(data):\n",
    "    sum = 0\n",
    "    for line in data:\n",
    "        first = ''\n",
    "        last = ''\n",
    "        for i in range(len(line)):\n",
    "            for number in nums.keys():\n",
    "                if line[i:i+5].startswith(number):\n",
    "                    num = nums[number]\n",
    "                    if not first:\n",
    "                        first = num\n",
    "                    last = num\n",
    "        sum += int(first + last)\n",
    "    return sum\n",
    "\n",
    "answer(1.2, 53866, lambda: trebuchet(in1))"
   ]
  },
  {
   "cell_type": "markdown",
   "metadata": {},
   "source": [
    "# Day 2"
   ]
  },
  {
   "cell_type": "code",
   "execution_count": 81,
   "metadata": {},
   "outputs": [
    {
     "data": {
      "text/plain": [
       "  .0014 seconds, answer: 2,085"
      ]
     },
     "execution_count": 81,
     "metadata": {},
     "output_type": "execute_result"
    }
   ],
   "source": [
    "in2 = parse(2, show=0)\n",
    "    \n",
    "def game(data, rmax=12, gmax=13, bmax=14):\n",
    "    gameid = 1\n",
    "    sum = 0\n",
    "    for game in data:\n",
    "        possible = True\n",
    "        id, gameinfo = game.split(':')\n",
    "        for info in gameinfo.split(';'):\n",
    "            rgb = defaultdict(int)\n",
    "            for shown in info.split(','):\n",
    "                amount, color = shown.strip().split(' ')\n",
    "                rgb[color] += int(amount)\n",
    "            if rgb['red'] > rmax or rgb['green'] > gmax or rgb['blue'] > bmax:\n",
    "                possible = False\n",
    "        if possible:\n",
    "            sum += gameid\n",
    "        gameid += 1\n",
    "    return sum\n",
    "\n",
    "answer(2.1, 2085, lambda: game(in2))"
   ]
  },
  {
   "cell_type": "code",
   "execution_count": 82,
   "metadata": {},
   "outputs": [
    {
     "data": {
      "text/plain": [
       "  .0028 seconds, answer: 79,315"
      ]
     },
     "execution_count": 82,
     "metadata": {},
     "output_type": "execute_result"
    }
   ],
   "source": [
    "import math\n",
    "in2 = parse(2, show=0)\n",
    "    \n",
    "def game(data):\n",
    "    sum = 0\n",
    "    for game in data:\n",
    "        game_id, game_info = game.split(':')\n",
    "        rgb_max = defaultdict(int)\n",
    "        for info in game_info.split(';'):\n",
    "            rgb = defaultdict(int)\n",
    "            for shown in info.split(','):\n",
    "                amount, color = shown.strip().split(' ')\n",
    "                rgb[color] += int(amount)\n",
    "            for key in rgb.keys():\n",
    "                rgb_max[key] = max(rgb[key], rgb_max[key])\n",
    "        sum += math.prod(rgb_max.values())\n",
    "    return sum\n",
    "\n",
    "answer(2.2, 79315, lambda: game(in2))"
   ]
  },
  {
   "cell_type": "markdown",
   "metadata": {},
   "source": [
    "# Day 3"
   ]
  },
  {
   "cell_type": "code",
   "execution_count": 171,
   "metadata": {},
   "outputs": [
    {
     "data": {
      "text/plain": [
       "  .0538 seconds, answer: 521,601"
      ]
     },
     "execution_count": 171,
     "metadata": {},
     "output_type": "execute_result"
    }
   ],
   "source": [
    "in3 = parse(3, show=0)\n",
    "\n",
    "def is_valid(data, x, y): return x >= 0 and y >=0 and x < len(data[0]) and y < len(data)\n",
    "def get_points(data, x,y): return [(x,y) for x,y in [(x+1,y+1), (x-1,y-1), (x+1, y), (x-1, y), (x, y+1), (x, y-1), (x-1, y+1), (x+1, y-1)] if is_valid(data, x, y)]\n",
    "\n",
    "def check_int(x, y, data):\n",
    "    num = []\n",
    "    symbols = '!@#$%^&*()_+-=/\\[]\\{\\}<>?|'\n",
    "    is_part = False\n",
    "    while x < len(data[y]) and data[y][x].isdigit():\n",
    "        if [p for p in get_points(data, x, y) if data[p[1]][p[0]] in symbols]:\n",
    "            is_part = True\n",
    "        num.append(data[y][x])\n",
    "        x += 1\n",
    "    return (is_part, ''.join(num))\n",
    "\n",
    "def parts(data):\n",
    "    sum = 0\n",
    "    \n",
    "    for y, line in enumerate(data):\n",
    "        x = 0\n",
    "        while x < len(line):\n",
    "            if not line[x].isdigit():\n",
    "                x += 1\n",
    "                continue\n",
    "            is_part, partnum = check_int(x, y, data)\n",
    "            sum += int(partnum) if is_part else 0\n",
    "            x += len(partnum)\n",
    "    return sum\n",
    "\n",
    "answer(3.1, 521601, lambda: parts(in3))\n",
    "      "
   ]
  },
  {
   "cell_type": "code",
   "execution_count": null,
   "metadata": {},
   "outputs": [
    {
     "data": {
      "text/plain": [
       "  .0538 seconds, answer: 521,601"
      ]
     },
     "metadata": {},
     "output_type": "display_data"
    }
   ],
   "source": [
    "in3 = parse(3, show=0)\n",
    "\n",
    "def is_valid(data, x, y): return x >= 0 and y >=0 and x < len(data[0]) and y < len(data)\n",
    "def get_points(data, x,y): return [(x,y) for x,y in [(x+1,y+1), (x-1,y-1), (x+1, y), (x-1, y), (x, y+1), (x, y-1), (x-1, y+1), (x+1, y-1)] if is_valid(data, x, y)]\n",
    "\n",
    "def check_int(x, y, data):\n",
    "    num = []\n",
    "    gears = []\n",
    "    while x < len(data[y]) and data[y][x].isdigit():\n",
    "        gears += [p for p in get_points(data, x, y) if data[p[1]][p[0]] == '*']\n",
    "        num.append(data[y][x])\n",
    "        x += 1\n",
    "    return (set(gears), ''.join(num))\n",
    "\n",
    "def parts(data):\n",
    "    gears = defaultdict(list)\n",
    "    for y, line in enumerate(data):\n",
    "        x = 0\n",
    "        while x < len(line):\n",
    "            if not line[x].isdigit():\n",
    "                x += 1\n",
    "                continue\n",
    "            gear_points, partnum = check_int(x, y, data)\n",
    "            for point in gear_points:\n",
    "                gears[point].append(partnum)\n",
    "            x += len(partnum)\n",
    "    return sum\n",
    "\n",
    "answer(3.1, 521601, lambda: parts(in3))\n",
    "      "
   ]
  }
 ],
 "metadata": {
  "kernelspec": {
   "display_name": ".venv",
   "language": "python",
   "name": "python3"
  },
  "language_info": {
   "codemirror_mode": {
    "name": "ipython",
    "version": 3
   },
   "file_extension": ".py",
   "mimetype": "text/x-python",
   "name": "python",
   "nbconvert_exporter": "python",
   "pygments_lexer": "ipython3",
   "version": "3.11.6"
  }
 },
 "nbformat": 4,
 "nbformat_minor": 2
}
