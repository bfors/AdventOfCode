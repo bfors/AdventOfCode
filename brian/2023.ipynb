{
 "cells": [
  {
   "cell_type": "code",
   "execution_count": 4,
   "metadata": {},
   "outputs": [],
   "source": [
    "from AdventUtils import *\n",
    "AdventUtils.current_year = 2023"
   ]
  },
  {
   "cell_type": "markdown",
   "metadata": {},
   "source": [
    "# Day 1"
   ]
  },
  {
   "cell_type": "code",
   "execution_count": 16,
   "metadata": {},
   "outputs": [
    {
     "data": {
      "text/plain": [
       "  .0033 seconds, answer: 54,159 !!!! INCORRECT !!!! Expected 123"
      ]
     },
     "execution_count": 16,
     "metadata": {},
     "output_type": "execute_result"
    }
   ],
   "source": [
    "in1 = parse(1, show=0)\n",
    "\n",
    "def trebuchet(data):\n",
    "    sum = 0\n",
    "    for line in data:\n",
    "        first = ''\n",
    "        last = ''\n",
    "        for c in line:\n",
    "            if c.isdigit():\n",
    "                if not first:\n",
    "                    first = c\n",
    "                last = c\n",
    "        sum += int(first + last)\n",
    "    return sum\n",
    "\n",
    "answer(1.1, 54159, lambda: trebuchet(in1))"
   ]
  },
  {
   "cell_type": "code",
   "execution_count": 21,
   "metadata": {},
   "outputs": [
    {
     "data": {
      "text/plain": [
       "  .2688 seconds, answer: 53,866"
      ]
     },
     "execution_count": 21,
     "metadata": {},
     "output_type": "execute_result"
    }
   ],
   "source": [
    "in1 = parse(1, show=0)\n",
    "\n",
    "nums = {\"one\":\"1\", \"two\":\"2\", \"three\":\"3\", \"four\":\"4\", \"five\":\"5\", \n",
    "        \"six\":\"6\", \"seven\":\"7\", \"eight\":\"8\", \"nine\":\"9\"}\n",
    "\n",
    "def trebuchet(data):\n",
    "    sum = 0\n",
    "    for line in data:\n",
    "        first = ''\n",
    "        last = ''\n",
    "        for i in range(len(line)):\n",
    "            if line[i].isdigit():\n",
    "                if not first:\n",
    "                    first = line[i]\n",
    "                last = line[i]\n",
    "            else:\n",
    "                for number in nums.keys():\n",
    "                    if line[i:i+5].startswith(number):\n",
    "                        num = nums[number]\n",
    "                        if not first:\n",
    "                            first = num\n",
    "                        last = num\n",
    "        sum += int(first + last)\n",
    "    return sum\n",
    "                        \n",
    "\n",
    "answer(1.2, 53866, lambda: trebuchet(in1))"
   ]
  }
 ],
 "metadata": {
  "kernelspec": {
   "display_name": ".venv",
   "language": "python",
   "name": "python3"
  },
  "language_info": {
   "codemirror_mode": {
    "name": "ipython",
    "version": 3
   },
   "file_extension": ".py",
   "mimetype": "text/x-python",
   "name": "python",
   "nbconvert_exporter": "python",
   "pygments_lexer": "ipython3",
   "version": "3.11.6"
  }
 },
 "nbformat": 4,
 "nbformat_minor": 2
}
