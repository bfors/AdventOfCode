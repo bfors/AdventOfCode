{
 "cells": [
  {
   "cell_type": "code",
   "execution_count": 4,
   "metadata": {},
   "outputs": [],
   "source": [
    "from AdventUtils import *\n",
    "AdventUtils.current_year = 2023"
   ]
  },
  {
   "cell_type": "markdown",
   "metadata": {},
   "source": [
    "# Day 1"
   ]
  },
  {
   "cell_type": "code",
   "execution_count": 16,
   "metadata": {},
   "outputs": [
    {
     "data": {
      "text/plain": [
       "  .0033 seconds, answer: 54,159 !!!! INCORRECT !!!! Expected 123"
      ]
     },
     "execution_count": 16,
     "metadata": {},
     "output_type": "execute_result"
    }
   ],
   "source": [
    "in1 = parse(1, show=0)\n",
    "\n",
    "def trebuchet(data):\n",
    "    sum = 0\n",
    "    for line in data:\n",
    "        first = ''\n",
    "        last = ''\n",
    "        for c in line:\n",
    "            if c.isdigit():\n",
    "                if not first:\n",
    "                    first = c\n",
    "                last = c\n",
    "        sum += int(first + last)\n",
    "    return sum\n",
    "\n",
    "answer(1.1, 54159, lambda: trebuchet(in1))"
   ]
  },
  {
   "cell_type": "code",
   "execution_count": 23,
   "metadata": {},
   "outputs": [
    {
     "data": {
      "text/plain": [
       "  .1796 seconds, answer: 53,866"
      ]
     },
     "execution_count": 23,
     "metadata": {},
     "output_type": "execute_result"
    }
   ],
   "source": [
    "in1 = parse(1, show=0)\n",
    "\n",
    "nums = {\"one\":\"1\", \"two\":\"2\", \"three\":\"3\", \"four\":\"4\", \"five\":\"5\", \n",
    "        \"six\":\"6\", \"seven\":\"7\", \"eight\":\"8\", \"nine\":\"9\",\n",
    "        \"1\":\"1\",\"2\":\"2\",\"3\":\"3\",\"4\":\"4\",\"5\":\"5\",\"6\":\"6\",\"7\":\"7\",\"8\":\"8\",\"9\":\"9\"}\n",
    "\n",
    "def trebuchet(data):\n",
    "    sum = 0\n",
    "    for line in data:\n",
    "        first = ''\n",
    "        last = ''\n",
    "        for i in range(len(line)):\n",
    "            for number in nums.keys():\n",
    "                if line[i:i+5].startswith(number):\n",
    "                    num = nums[number]\n",
    "                    if not first:\n",
    "                        first = num\n",
    "                    last = num\n",
    "        sum += int(first + last)\n",
    "    return sum\n",
    "\n",
    "answer(1.2, 53866, lambda: trebuchet(in1))"
   ]
  },
  {
   "cell_type": "markdown",
   "metadata": {},
   "source": [
    "# Day 2"
   ]
  },
  {
   "cell_type": "code",
   "execution_count": 50,
   "metadata": {},
   "outputs": [
    {
     "data": {
      "text/plain": [
       "  .0017 seconds, answer: 2,085 !!!! INCORRECT !!!! Expected 1"
      ]
     },
     "execution_count": 50,
     "metadata": {},
     "output_type": "execute_result"
    }
   ],
   "source": [
    "in2 = parse(2, show=0)\n",
    "    \n",
    "def game(data, rmax=12, gmax=13, bmax=14):\n",
    "    gameid = 1\n",
    "    sum = 0\n",
    "    for game in data:\n",
    "        possible = True\n",
    "        gameinfo = game.split(':')[1].split(';')\n",
    "        for info in gameinfo:\n",
    "            rgb = defaultdict(int)\n",
    "            for shown in info.strip().split(','):\n",
    "                color = shown.strip().split(' ')[1]\n",
    "                amount = shown.strip().split(' ')[0]\n",
    "                rgb[color] += int(amount)\n",
    "            if rgb['red'] > rmax or rgb['green'] > gmax or rgb['blue'] > bmax:\n",
    "                possible = False\n",
    "        if possible:\n",
    "            sum += gameid\n",
    "        gameid += 1\n",
    "    return sum\n",
    "\n",
    "answer(2.1, 1, lambda: game(in2))"
   ]
  },
  {
   "cell_type": "code",
   "execution_count": 63,
   "metadata": {},
   "outputs": [
    {
     "data": {
      "text/plain": [
       "  .0034 seconds, answer: 79,315"
      ]
     },
     "execution_count": 63,
     "metadata": {},
     "output_type": "execute_result"
    }
   ],
   "source": [
    "in2 = parse(2, show=0)\n",
    "    \n",
    "def game(data):\n",
    "    sum = 0\n",
    "    for game in data:\n",
    "        game_info = game.split(':')[1].split(';')\n",
    "        rgb_max = defaultdict(int)\n",
    "        for info in game_info:\n",
    "            rgb = defaultdict(int)\n",
    "            for shown in info.strip().split(','):\n",
    "                color = shown.strip().split(' ')[1]\n",
    "                amount = int(shown.strip().split(' ')[0])\n",
    "                rgb[color] += amount\n",
    "            for key in rgb.keys():\n",
    "                rgb_max[key] = max(rgb[key], rgb_max[key])\n",
    "        sum += prod(rgb_max.values())\n",
    "    return sum\n",
    "\n",
    "answer(2.2, 79315, lambda: game(in2))"
   ]
  }
 ],
 "metadata": {
  "kernelspec": {
   "display_name": ".venv",
   "language": "python",
   "name": "python3"
  },
  "language_info": {
   "codemirror_mode": {
    "name": "ipython",
    "version": 3
   },
   "file_extension": ".py",
   "mimetype": "text/x-python",
   "name": "python",
   "nbconvert_exporter": "python",
   "pygments_lexer": "ipython3",
   "version": "3.11.6"
  }
 },
 "nbformat": 4,
 "nbformat_minor": 2
}
