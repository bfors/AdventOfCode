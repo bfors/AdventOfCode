{
 "cells": [
  {
   "cell_type": "code",
   "execution_count": 2,
   "metadata": {},
   "outputs": [
    {
     "name": "stdout",
     "output_type": "stream",
     "text": [
      "starting import\n"
     ]
    }
   ],
   "source": [
    "from AdventUtils import *\n",
    "import AdventUtils\n",
    "AdventUtils.current_year = 2023"
   ]
  },
  {
   "cell_type": "markdown",
   "metadata": {},
   "source": [
    "# Day 1"
   ]
  },
  {
   "cell_type": "code",
   "execution_count": 2,
   "metadata": {},
   "outputs": [
    {
     "data": {
      "text/plain": [
       "  .0028 seconds, answer: 54159"
      ]
     },
     "execution_count": 2,
     "metadata": {},
     "output_type": "execute_result"
    }
   ],
   "source": [
    "in1 = parse(1, show=0)\n",
    "\n",
    "def trebuchet(data):\n",
    "    sum = 0\n",
    "    for line in data:\n",
    "        first = ''\n",
    "        last = ''\n",
    "        for c in line:\n",
    "            if c.isdigit():\n",
    "                if not first:\n",
    "                    first = c\n",
    "                last = c\n",
    "        sum += int(first + last)\n",
    "    return sum\n",
    "\n",
    "answer(1.1, 54159, lambda: trebuchet(in1))"
   ]
  },
  {
   "cell_type": "code",
   "execution_count": 3,
   "metadata": {},
   "outputs": [
    {
     "data": {
      "text/plain": [
       "  .2212 seconds, answer: 53866"
      ]
     },
     "execution_count": 3,
     "metadata": {},
     "output_type": "execute_result"
    }
   ],
   "source": [
    "in1 = parse(1, show=0)\n",
    "\n",
    "nums = {\"one\":\"1\", \"two\":\"2\", \"three\":\"3\", \"four\":\"4\", \"five\":\"5\", \n",
    "        \"six\":\"6\", \"seven\":\"7\", \"eight\":\"8\", \"nine\":\"9\",\n",
    "        \"1\":\"1\",\"2\":\"2\",\"3\":\"3\",\"4\":\"4\",\"5\":\"5\",\"6\":\"6\",\"7\":\"7\",\"8\":\"8\",\"9\":\"9\"}\n",
    "\n",
    "def trebuchet(data):\n",
    "    sum = 0\n",
    "    for line in data:\n",
    "        first = ''\n",
    "        last = ''\n",
    "        for i in range(len(line)):\n",
    "            for number in nums.keys():\n",
    "                if line[i:i+5].startswith(number):\n",
    "                    num = nums[number]\n",
    "                    if not first:\n",
    "                        first = num\n",
    "                    last = num\n",
    "        sum += int(first + last)\n",
    "    return sum\n",
    "\n",
    "answer(1.2, 53866, lambda: trebuchet(in1))"
   ]
  },
  {
   "cell_type": "markdown",
   "metadata": {},
   "source": [
    "# Day 2"
   ]
  },
  {
   "cell_type": "code",
   "execution_count": 4,
   "metadata": {},
   "outputs": [
    {
     "data": {
      "text/plain": [
       "  .0027 seconds, answer: 2085"
      ]
     },
     "execution_count": 4,
     "metadata": {},
     "output_type": "execute_result"
    }
   ],
   "source": [
    "in2 = parse(2, show=0)\n",
    "    \n",
    "def game(data, rmax=12, gmax=13, bmax=14):\n",
    "    gameid = 1\n",
    "    sum = 0\n",
    "    for game in data:\n",
    "        possible = True\n",
    "        id, gameinfo = game.split(':')\n",
    "        for info in gameinfo.split(';'):\n",
    "            rgb = defaultdict(int)\n",
    "            for shown in info.split(','):\n",
    "                amount, color = shown.strip().split(' ')\n",
    "                rgb[color] += int(amount)\n",
    "            if rgb['red'] > rmax or rgb['green'] > gmax or rgb['blue'] > bmax:\n",
    "                possible = False\n",
    "        if possible:\n",
    "            sum += gameid\n",
    "        gameid += 1\n",
    "    return sum\n",
    "\n",
    "answer(2.1, 2085, lambda: game(in2))"
   ]
  },
  {
   "cell_type": "code",
   "execution_count": 5,
   "metadata": {},
   "outputs": [
    {
     "data": {
      "text/plain": [
       "  .0023 seconds, answer: 79315"
      ]
     },
     "execution_count": 5,
     "metadata": {},
     "output_type": "execute_result"
    }
   ],
   "source": [
    "import math\n",
    "in2 = parse(2, show=0)\n",
    "    \n",
    "def game(data):\n",
    "    sum = 0\n",
    "    for game in data:\n",
    "        game_id, game_info = game.split(':')\n",
    "        rgb_max = defaultdict(int)\n",
    "        for info in game_info.split(';'):\n",
    "            rgb = defaultdict(int)\n",
    "            for shown in info.split(','):\n",
    "                amount, color = shown.strip().split(' ')\n",
    "                rgb[color] += int(amount)\n",
    "            for key in rgb.keys():\n",
    "                rgb_max[key] = max(rgb[key], rgb_max[key])\n",
    "        sum += math.prod(rgb_max.values())\n",
    "    return sum\n",
    "\n",
    "answer(2.2, 79315, lambda: game(in2))"
   ]
  },
  {
   "cell_type": "markdown",
   "metadata": {},
   "source": [
    "# Day 3"
   ]
  },
  {
   "cell_type": "code",
   "execution_count": 6,
   "metadata": {},
   "outputs": [
    {
     "data": {
      "text/plain": [
       "  .0459 seconds, answer: 521601"
      ]
     },
     "execution_count": 6,
     "metadata": {},
     "output_type": "execute_result"
    }
   ],
   "source": [
    "in3 = parse(3, show=0)\n",
    "\n",
    "def is_valid(data, x, y): return x >= 0 and y >=0 and x < len(data[0]) and y < len(data)\n",
    "def get_points(data, x,y): return [(x,y) for x,y in [(x+1,y+1), (x-1,y-1), (x+1, y), (x-1, y), (x, y+1), (x, y-1), (x-1, y+1), (x+1, y-1)] if is_valid(data, x, y)]\n",
    "\n",
    "def check_int(x, y, data):\n",
    "    num = []\n",
    "    symbols = '!@#$%^&*()_+-=/\\[]\\{\\}<>?|'\n",
    "    is_part = False\n",
    "    while x < len(data[y]) and data[y][x].isdigit():\n",
    "        if [p for p in get_points(data, x, y) if data[p[1]][p[0]] in symbols]:\n",
    "            is_part = True\n",
    "        num.append(data[y][x])\n",
    "        x += 1\n",
    "    return (is_part, ''.join(num))\n",
    "\n",
    "def parts(data):\n",
    "    sum = 0\n",
    "    \n",
    "    for y, line in enumerate(data):\n",
    "        x = 0\n",
    "        while x < len(line):\n",
    "            if not line[x].isdigit():\n",
    "                x += 1\n",
    "                continue\n",
    "            is_part, partnum = check_int(x, y, data)\n",
    "            sum += int(partnum) if is_part else 0\n",
    "            x += len(partnum)\n",
    "    return sum\n",
    "\n",
    "answer(3.1, 521601, lambda: parts(in3))\n",
    "      "
   ]
  },
  {
   "cell_type": "code",
   "execution_count": 10,
   "metadata": {},
   "outputs": [
    {
     "data": {
      "text/plain": [
       "  .0790 seconds, answer: 80694070"
      ]
     },
     "execution_count": 10,
     "metadata": {},
     "output_type": "execute_result"
    }
   ],
   "source": [
    "in3 = parse(3, show=0)\n",
    "\n",
    "def is_valid(data, x, y): return x >= 0 and y >=0 and x < len(data[0]) and y < len(data)\n",
    "def get_points(data, x,y):\n",
    "    return [(x,y) for x,y in [(x+1,y+1), (x-1,y-1), (x+1, y), (x-1, y), (x, y+1), (x, y-1), (x-1, y+1), (x+1, y-1)] if is_valid(data, x, y)]\n",
    "\n",
    "def check_int(x, y, data):\n",
    "    num = gears = []\n",
    "    while x < len(data[y]) and data[y][x].isdigit():\n",
    "        gears += [p for p in get_points(data, x, y) if data[p[1]][p[0]] == '*']\n",
    "        num.append(data[y][x])\n",
    "        x += 1\n",
    "    return (set(gears), ''.join(num))\n",
    "\n",
    "def parts(data):\n",
    "    gears = defaultdict(list)\n",
    "    for y, line in enumerate(data):\n",
    "        x = 0\n",
    "        while x < len(line):\n",
    "            if not line[x].isdigit():\n",
    "                x += 1\n",
    "                continue\n",
    "            gear_points, partnum = check_int(x, y, data)\n",
    "            for point in gear_points:\n",
    "                gears[point].append(int(partnum))\n",
    "            x += len(partnum)\n",
    "\n",
    "    return sum(vals[0]*vals[1] for vals in gears.values() if len(vals)==2)\n",
    "\n",
    "answer(3.2, 80694070, lambda: parts(in3))\n",
    "      "
   ]
  },
  {
   "cell_type": "markdown",
   "metadata": {},
   "source": [
    "# Day 4"
   ]
  },
  {
   "cell_type": "code",
   "execution_count": 56,
   "metadata": {},
   "outputs": [
    {
     "data": {
      "text/plain": [
       "  .0112 seconds, answer: 21919"
      ]
     },
     "execution_count": 56,
     "metadata": {},
     "output_type": "execute_result"
    }
   ],
   "source": [
    "import math\n",
    "in4 = parse(4, show=0)\n",
    "\n",
    "def get_numbers(text: str):\n",
    "    return tuple(map(int, re.findall(r\"-?[0-9]+\", text)))\n",
    "\n",
    "def scratch(data):\n",
    "    total = 0\n",
    "    for card in data:\n",
    "        left, right = card.split(':')[1].split('|')\n",
    "        winners = set(get_numbers(left))\n",
    "        numbers = get_numbers(right)\n",
    "        matches = sum(1 for n in numbers if n in winners)\n",
    "        if matches > 0:\n",
    "            total += int(math.pow(2,matches-1))\n",
    "    return total\n",
    "\n",
    "answer(4.1, 21919, lambda: scratch(in4))\n"
   ]
  },
  {
   "cell_type": "code",
   "execution_count": 62,
   "metadata": {},
   "outputs": [
    {
     "data": {
      "text/plain": [
       "  .0094 seconds, answer: 9881048 !!!! INCORRECT !!!! Expected 21919"
      ]
     },
     "execution_count": 62,
     "metadata": {},
     "output_type": "execute_result"
    }
   ],
   "source": [
    "in4 = parse(4, show=0)\n",
    "\n",
    "def get_numbers(text: str):\n",
    "    return tuple(map(int, re.findall(r\"-?[0-9]+\", text)))\n",
    "\n",
    "def scratch(data):\n",
    "    copies = Counter()\n",
    "    for i, card in enumerate(data, 1):\n",
    "        copies[i] += 1\n",
    "        left, right = card.split(':')[1].split('|')\n",
    "        winners = set(get_numbers(left))\n",
    "        numbers = get_numbers(right)\n",
    "        matches = sum(1 for n in numbers if n in winners)\n",
    "        for j in range(1, matches+1):\n",
    "            copies[i+j] += copies[i]\n",
    "\n",
    "    return sum(copies.values())\n",
    "\n",
    "answer(4.2, 9881048, lambda: scratch(in4))\n"
   ]
  },
  {
   "cell_type": "markdown",
   "metadata": {},
   "source": [
    "# Day 5"
   ]
  },
  {
   "cell_type": "code",
   "execution_count": 35,
   "metadata": {},
   "outputs": [
    {
     "data": {
      "text/plain": [
       "  .0039 seconds, answer: 621354867"
      ]
     },
     "execution_count": 35,
     "metadata": {},
     "output_type": "execute_result"
    }
   ],
   "source": [
    "in5 = parse(5, sections=paragraphs, show=0)\n",
    "\n",
    "def get_location(key, data):\n",
    "    for table in data:\n",
    "        for item in table.split('\\n')[1:]:\n",
    "            dest, src, interval = map(int, item.split(' '))\n",
    "            if key >= src and key <= src + interval:\n",
    "                key = (key - src) + dest\n",
    "                break\n",
    "    return key\n",
    "\n",
    "def seeds(data):\n",
    "    seeds = ints(data[0].split(':')[1])\n",
    "    return min([get_location(seed, data[1:]) for seed in seeds])\n",
    "\n",
    "answer(5.1, 621354867, lambda: seeds(in5))"
   ]
  },
  {
   "cell_type": "code",
   "execution_count": 58,
   "metadata": {},
   "outputs": [
    {
     "name": "stdout",
     "output_type": "stream",
     "text": [
      "[['2018515973 2192795257 82329405'], ['3722326327 3015971185 249665840'], ['3046459770 3689390318 25519185'], ['3971992167 3265637025 40217941'], ['3071978955 3453653215 203407731'], ['0 443504340 17965088'], ['584437096 1722124969 470670288'], ['1055107384 744431503 164966659'], ['1489299099 461469428 282962075'], ['2321848831 2380372526 153650776'], ['2100845378 269225056 174279284'], ['3487660258 2648616968 234666069'], ['3275386686 3305854966 147798249'], ['1772261174 1172578553 246254799'], ['4012210108 2883283037 132688148'], ['3423184935 4138946628 64475323'], ['4144898256 2321848831 58523695'], ['538253726 1418833352 46183370'], ['1220074043 0 269225056'], ['17965088 909398162 263180391'], ['2590093273 3657060946 32329372'], ['281145479 1465016722 257108247'], ['2622422645 3714909503 424037125'], ['2475499607 2534023302 114593666']]\n"
     ]
    },
    {
     "data": {
      "text/plain": [
       "  .0007 seconds, answer: None !!!! INCORRECT !!!! Expected 1"
      ]
     },
     "execution_count": 58,
     "metadata": {},
     "output_type": "execute_result"
    }
   ],
   "source": [
    "in5 = parse(5, sections=paragraphs, show=0)\n",
    "\n",
    "def get_location(key, tables):\n",
    "    for table in tables:\n",
    "        for item in table.split('\\n')[1:]:\n",
    "            dest, src, interval = map(int, item.split(' '))\n",
    "            if key >= src and key <= src + interval:\n",
    "                key = (key - src) + dest\n",
    "                break\n",
    "    return key\n",
    "\n",
    "def seeds(data):\n",
    "    seeds = ints(data[0].split(':')[1])\n",
    "    seed_pairs = zip(seeds[::2], seeds[1::2])\n",
    "    \n",
    "    tables = data[1:]\n",
    "    tables = tables[1].split('\\n')[1:]\n",
    "    tables = [sorted(table.split('\\n'), key=lambda s: s.split(' ')[1]) for table in tables]\n",
    "    #tables = [sorted(table.split('\\n')[1:], key=lambda s: s.split(' ')[1]) for table in tables]\n",
    "    print(tables)\n",
    "    \n",
    "#    tables = [sorted(table[1:].split('\\n'), key= lambda a: a.split(' ')[1]) for table in data[1:]]\n",
    "#    return min([get_location(seed, tables) for start, interval in seed_pairs for seed in range(start, start+interval+1)])\n",
    "\n",
    "answer(5.2, 1, lambda: seeds(in5))"
   ]
  },
  {
   "cell_type": "code",
   "execution_count": 32,
   "metadata": {},
   "outputs": [
    {
     "data": {
      "text/plain": [
       "<function __main__.seeds(data)>"
      ]
     },
     "execution_count": 32,
     "metadata": {},
     "output_type": "execute_result"
    }
   ],
   "source": [
    "seeds"
   ]
  }
 ],
 "metadata": {
  "kernelspec": {
   "display_name": ".venv",
   "language": "python",
   "name": "python3"
  },
  "language_info": {
   "codemirror_mode": {
    "name": "ipython",
    "version": 3
   },
   "file_extension": ".py",
   "mimetype": "text/x-python",
   "name": "python",
   "nbconvert_exporter": "python",
   "pygments_lexer": "ipython3",
   "version": "3.11.6"
  }
 },
 "nbformat": 4,
 "nbformat_minor": 2
}
